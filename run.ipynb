{
 "cells": [
  {
   "cell_type": "code",
   "execution_count": null,
   "metadata": {},
   "outputs": [],
   "source": [
    "# Install packages. It is recommended to use a new virtual environment. Python 3.9 is required.\n",
    "!pip install -r requirements.txt"
   ]
  },
  {
   "cell_type": "code",
   "execution_count": null,
   "metadata": {},
   "outputs": [],
   "source": [
    "model_path = \"https://github.com/bjascob/amrlib-models/releases/download/model_parse_t5-v0_1_0/model_parse_t5-v0_1_0.tar.gz\"\n",
    "\n",
    "# Download the model\n",
    "!wget {model_path}"
   ]
  },
  {
   "cell_type": "code",
   "execution_count": null,
   "metadata": {},
   "outputs": [],
   "source": [
    "# Extract the model\n",
    "!tar -xvf model_parse_t5-v0_1_0.tar.gz"
   ]
  },
  {
   "cell_type": "code",
   "execution_count": 10,
   "metadata": {},
   "outputs": [],
   "source": [
    "# Remove the tar file\n",
    "!rm model_parse_t5-v0_1_0.tar.gz"
   ]
  },
  {
   "cell_type": "code",
   "execution_count": 8,
   "metadata": {},
   "outputs": [],
   "source": [
    "# move the model to the models directory and rename it\n",
    "!mkdir models\n",
    "!mv model_parse_t5-v0_1_0 models/model_t5-amr"
   ]
  },
  {
   "cell_type": "code",
   "execution_count": null,
   "metadata": {},
   "outputs": [],
   "source": [
    "# Expects the a gpu to be available\n",
    "# Baseline\n",
    "!python egice_experiment_old_ds.py --gpu=0 --exp=0"
   ]
  },
  {
   "cell_type": "code",
   "execution_count": null,
   "metadata": {},
   "outputs": [],
   "source": [
    "# Baseline with no generation args\n",
    "!python egice_experiment_no_gen.py --gpu=0 --exp=0"
   ]
  },
  {
   "cell_type": "code",
   "execution_count": null,
   "metadata": {},
   "outputs": [],
   "source": [
    "# Runs all experiments for the new dataset - from baseline to all IRs applied\n",
    "!python egice_experiment_rev_ir.py --gpu=0 --exp=0,1,2,3,4,5,6,7,8,9,10"
   ]
  },
  {
   "cell_type": "code",
   "execution_count": null,
   "metadata": {},
   "outputs": [],
   "source": [
    "# Lossy IR with exp and entity lossy IRs\n",
    "!python egice_experiment_ir.py --gpu=0 --exp=0,1"
   ]
  },
  {
   "cell_type": "code",
   "execution_count": null,
   "metadata": {},
   "outputs": [],
   "source": [
    "# Paraphrase as IR\n",
    "!python egice_experiment_paraphrase.py --gpu=0 --exp=0"
   ]
  },
  {
   "cell_type": "code",
   "execution_count": null,
   "metadata": {},
   "outputs": [],
   "source": [
    "# Train with all clauses and with paraphrases, but no IR\n",
    "!python egice_experiment_paraphrase_noir.py --gpu=0 --exp=0"
   ]
  },
  {
   "cell_type": "code",
   "execution_count": null,
   "metadata": {},
   "outputs": [],
   "source": [
    "# Self consistency experiments with best model and after three epochs\n",
    "!python egice_experiment_consistency.py --gpu=0 --exp=0,1"
   ]
  }
 ],
 "metadata": {
  "kernelspec": {
   "display_name": "Python 3",
   "language": "python",
   "name": "python3"
  },
  "language_info": {
   "codemirror_mode": {
    "name": "ipython",
    "version": 3
   },
   "file_extension": ".py",
   "mimetype": "text/x-python",
   "name": "python",
   "nbconvert_exporter": "python",
   "pygments_lexer": "ipython3",
   "version": "3.9.19"
  }
 },
 "nbformat": 4,
 "nbformat_minor": 2
}
